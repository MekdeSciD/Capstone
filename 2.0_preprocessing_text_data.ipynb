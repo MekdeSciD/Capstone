{
 "cells": [
  {
   "cell_type": "markdown",
   "metadata": {},
   "source": [
    "## I will begin by looking at two of the versions : KJV ( King James Version) and ASV( American Standard Version)\n"
   ]
  },
  {
   "cell_type": "code",
   "execution_count": 27,
   "metadata": {},
   "outputs": [],
   "source": [
    "import pandas as pd \n",
    "import re "
   ]
  },
  {
   "cell_type": "code",
   "execution_count": 28,
   "metadata": {},
   "outputs": [],
   "source": [
    "kjv = pd.read_csv('./datasets/t_kjv.csv')"
   ]
  },
  {
   "cell_type": "code",
   "execution_count": 29,
   "metadata": {},
   "outputs": [],
   "source": [
    "asv = pd.read_csv('./datasets/t_asv.csv')"
   ]
  },
  {
   "cell_type": "code",
   "execution_count": 30,
   "metadata": {},
   "outputs": [
    {
     "name": "stdout",
     "output_type": "stream",
     "text": [
      "(31103, 5)\n",
      "(31103, 5)\n"
     ]
    }
   ],
   "source": [
    "print(kjv.shape)\n",
    "print(asv.shape)"
   ]
  },
  {
   "cell_type": "code",
   "execution_count": 31,
   "metadata": {},
   "outputs": [
    {
     "name": "stdout",
     "output_type": "stream",
     "text": [
      "Index(['id', 'b', 'c', 'v', 't'], dtype='object')\n",
      "Index(['id', 'b', 'c', 'v', 't'], dtype='object')\n"
     ]
    }
   ],
   "source": [
    "print(kjv.columns)\n",
    "print(asv.columns)"
   ]
  },
  {
   "cell_type": "code",
   "execution_count": 32,
   "metadata": {},
   "outputs": [
    {
     "name": "stdout",
     "output_type": "stream",
     "text": [
      "In the beginning God created the heaven and the earth.\n",
      "In the beginning God created the heavens and the earth.\n"
     ]
    }
   ],
   "source": [
    "print(kjv['t'][0])\n",
    "print(asv['t'][0])"
   ]
  },
  {
   "cell_type": "code",
   "execution_count": 33,
   "metadata": {},
   "outputs": [
    {
     "name": "stdout",
     "output_type": "stream",
     "text": [
      "And his brother's name was Jubal: he was the father of all such as handle the harp and organ.\n",
      "And his brother's name was Jubal: he was the father of all such as handle the harp and pipe.\n"
     ]
    }
   ],
   "source": [
    "print(kjv['t'][100])\n",
    "print(asv['t'][100])"
   ]
  },
  {
   "cell_type": "code",
   "execution_count": 34,
   "metadata": {},
   "outputs": [
    {
     "name": "stdout",
     "output_type": "stream",
     "text": [
      "        id  b  c  v                                                  t\n",
      "0  1001001  1  1  1  In the beginning God created the heaven and th...\n",
      "1  1001002  1  1  2  And the earth was without form, and void; and ...\n",
      "2  1001003  1  1  3  And God said, Let there be light: and there wa...\n",
      "3  1001004  1  1  4  And God saw the light, that it was good: and G...\n",
      "4  1001005  1  1  5  And God called the light Day, and the darkness...\n",
      "============\n",
      "        id  b  c  v                                                  t\n",
      "0  1001001  1  1  1  In the beginning God created the heavens and t...\n",
      "1  1001002  1  1  2  And the earth was waste and void; and darkness...\n",
      "2  1001003  1  1  3  And God said, Let there be light: and there wa...\n",
      "3  1001004  1  1  4  And God saw the light, that it was good: and G...\n",
      "4  1001005  1  1  5  And God called the light Day, and the darkness...\n"
     ]
    }
   ],
   "source": [
    "print(kjv.head())\n",
    "print('============')\n",
    "print(asv.head())"
   ]
  },
  {
   "cell_type": "code",
   "execution_count": 36,
   "metadata": {},
   "outputs": [],
   "source": [
    "kjv2 = kjv.drop(columns=['b', 'c', 'id'])"
   ]
  },
  {
   "cell_type": "code",
   "execution_count": 37,
   "metadata": {
    "scrolled": true
   },
   "outputs": [],
   "source": [
    "asv2 = asv.drop(columns=['b', 'c', 'id'])"
   ]
  },
  {
   "cell_type": "code",
   "execution_count": 39,
   "metadata": {},
   "outputs": [
    {
     "name": "stdout",
     "output_type": "stream",
     "text": [
      "   v                                                  t\n",
      "0  1  In the beginning God created the heaven and th...\n",
      "1  2  And the earth was without form, and void; and ...\n",
      "2  3  And God said, Let there be light: and there wa...\n",
      "3  4  And God saw the light, that it was good: and G...\n",
      "4  5  And God called the light Day, and the darkness...\n",
      "====\n",
      "   v                                                  t\n",
      "0  1  In the beginning God created the heavens and t...\n",
      "1  2  And the earth was waste and void; and darkness...\n",
      "2  3  And God said, Let there be light: and there wa...\n",
      "3  4  And God saw the light, that it was good: and G...\n",
      "4  5  And God called the light Day, and the darkness...\n"
     ]
    }
   ],
   "source": [
    "print(kjv2.head())\n",
    "print('====')\n",
    "print(asv2.head())"
   ]
  },
  {
   "cell_type": "code",
   "execution_count": 42,
   "metadata": {},
   "outputs": [],
   "source": [
    "kjas = pd.concat([kjv2, asv2])"
   ]
  },
  {
   "cell_type": "code",
   "execution_count": 43,
   "metadata": {},
   "outputs": [
    {
     "data": {
      "text/plain": [
       "(62206, 2)"
      ]
     },
     "execution_count": 43,
     "metadata": {},
     "output_type": "execute_result"
    }
   ],
   "source": [
    "kjas.shape"
   ]
  },
  {
   "cell_type": "code",
   "execution_count": null,
   "metadata": {},
   "outputs": [],
   "source": []
  },
  {
   "cell_type": "code",
   "execution_count": 11,
   "metadata": {
    "scrolled": true
   },
   "outputs": [],
   "source": [
    "# kjv2.shape"
   ]
  },
  {
   "cell_type": "code",
   "execution_count": 12,
   "metadata": {
    "scrolled": true
   },
   "outputs": [],
   "source": [
    "# tkjv = kjv['t'][:31104]"
   ]
  },
  {
   "cell_type": "code",
   "execution_count": 13,
   "metadata": {},
   "outputs": [],
   "source": [
    "# type(tkjv)"
   ]
  }
 ],
 "metadata": {
  "kernelspec": {
   "display_name": "Python 3",
   "language": "python",
   "name": "python3"
  },
  "language_info": {
   "codemirror_mode": {
    "name": "ipython",
    "version": 3
   },
   "file_extension": ".py",
   "mimetype": "text/x-python",
   "name": "python",
   "nbconvert_exporter": "python",
   "pygments_lexer": "ipython3",
   "version": "3.7.2"
  }
 },
 "nbformat": 4,
 "nbformat_minor": 2
}
