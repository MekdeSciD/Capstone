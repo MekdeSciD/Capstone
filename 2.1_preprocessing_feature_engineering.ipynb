{
 "cells": [
  {
   "cell_type": "code",
   "execution_count": 86,
   "metadata": {},
   "outputs": [],
   "source": [
    "import pandas as pd \n",
    "import re \n",
    "\n",
    "import warnings\n",
    "warnings.simplefilter(action=\"ignore\")\n",
    "\n",
    "pd.options.display.max_rows = 66\n",
    "pd.options.display.max_columns = 10"
   ]
  },
  {
   "cell_type": "code",
   "execution_count": 87,
   "metadata": {},
   "outputs": [],
   "source": [
    "genre_keys = pd.read_csv('./datasets/key_genre_english.csv')"
   ]
  },
  {
   "cell_type": "code",
   "execution_count": 88,
   "metadata": {},
   "outputs": [],
   "source": [
    "english_keys = pd.read_csv('./datasets/key_english.csv')"
   ]
  },
  {
   "cell_type": "code",
   "execution_count": 89,
   "metadata": {},
   "outputs": [],
   "source": [
    "key_abbrev = pd.read_csv('./datasets/key_abbreviations_english.csv')"
   ]
  },
  {
   "cell_type": "code",
   "execution_count": 90,
   "metadata": {},
   "outputs": [],
   "source": [
    "version_keys = pd.read_csv('./datasets/bible_version_key.csv')"
   ]
  },
  {
   "cell_type": "code",
   "execution_count": 91,
   "metadata": {},
   "outputs": [],
   "source": [
    "kjv = pd.read_csv('./datasets/t_kjv.csv')  # King James Version"
   ]
  },
  {
   "cell_type": "code",
   "execution_count": 92,
   "metadata": {},
   "outputs": [],
   "source": [
    "asv = pd.read_csv('./datasets/t_asv.csv')  # American Standard Version "
   ]
  },
  {
   "cell_type": "code",
   "execution_count": 125,
   "metadata": {},
   "outputs": [],
   "source": [
    "bbe = pd.read_csv('./datasets/t_bbe.csv')  # Bible in Basic English "
   ]
  },
  {
   "cell_type": "code",
   "execution_count": 127,
   "metadata": {
    "scrolled": true
   },
   "outputs": [],
   "source": [
    "wbt = pd.read_csv('./datasets/t_wbt.csv')  # Webster's Bible"
   ]
  },
  {
   "cell_type": "code",
   "execution_count": 128,
   "metadata": {},
   "outputs": [],
   "source": [
    "web = pd.read_csv('./datasets/t_web.csv')  # World English Bible "
   ]
  },
  {
   "cell_type": "code",
   "execution_count": 129,
   "metadata": {},
   "outputs": [],
   "source": [
    "ylt = pd.read_csv('./datasets/t_ylt.csv')  # Young's literal Translation"
   ]
  },
  {
   "cell_type": "code",
   "execution_count": 99,
   "metadata": {},
   "outputs": [
    {
     "data": {
      "text/html": [
       "<div>\n",
       "<style scoped>\n",
       "    .dataframe tbody tr th:only-of-type {\n",
       "        vertical-align: middle;\n",
       "    }\n",
       "\n",
       "    .dataframe tbody tr th {\n",
       "        vertical-align: top;\n",
       "    }\n",
       "\n",
       "    .dataframe thead th {\n",
       "        text-align: right;\n",
       "    }\n",
       "</style>\n",
       "<table border=\"1\" class=\"dataframe\">\n",
       "  <thead>\n",
       "    <tr style=\"text-align: right;\">\n",
       "      <th></th>\n",
       "      <th>g</th>\n",
       "      <th>n</th>\n",
       "    </tr>\n",
       "  </thead>\n",
       "  <tbody>\n",
       "    <tr>\n",
       "      <th>0</th>\n",
       "      <td>1</td>\n",
       "      <td>Law</td>\n",
       "    </tr>\n",
       "    <tr>\n",
       "      <th>1</th>\n",
       "      <td>2</td>\n",
       "      <td>History</td>\n",
       "    </tr>\n",
       "    <tr>\n",
       "      <th>2</th>\n",
       "      <td>3</td>\n",
       "      <td>Wisdom</td>\n",
       "    </tr>\n",
       "    <tr>\n",
       "      <th>3</th>\n",
       "      <td>4</td>\n",
       "      <td>Prophets</td>\n",
       "    </tr>\n",
       "    <tr>\n",
       "      <th>4</th>\n",
       "      <td>5</td>\n",
       "      <td>Gospels</td>\n",
       "    </tr>\n",
       "    <tr>\n",
       "      <th>5</th>\n",
       "      <td>6</td>\n",
       "      <td>Acts</td>\n",
       "    </tr>\n",
       "    <tr>\n",
       "      <th>6</th>\n",
       "      <td>7</td>\n",
       "      <td>Epistles</td>\n",
       "    </tr>\n",
       "    <tr>\n",
       "      <th>7</th>\n",
       "      <td>8</td>\n",
       "      <td>Apocalyptic</td>\n",
       "    </tr>\n",
       "  </tbody>\n",
       "</table>\n",
       "</div>"
      ],
      "text/plain": [
       "   g            n\n",
       "0  1          Law\n",
       "1  2      History\n",
       "2  3       Wisdom\n",
       "3  4     Prophets\n",
       "4  5      Gospels\n",
       "5  6         Acts\n",
       "6  7     Epistles\n",
       "7  8  Apocalyptic"
      ]
     },
     "execution_count": 99,
     "metadata": {},
     "output_type": "execute_result"
    }
   ],
   "source": [
    "genre_keys"
   ]
  },
  {
   "cell_type": "code",
   "execution_count": 136,
   "metadata": {},
   "outputs": [],
   "source": [
    "# creating a new kjv with only id and book columns \n",
    "kjv2 = kjv.drop(columns=['id','v','c'])"
   ]
  },
  {
   "cell_type": "code",
   "execution_count": 104,
   "metadata": {},
   "outputs": [
    {
     "data": {
      "text/plain": [
       "(31103, 2)"
      ]
     },
     "execution_count": 104,
     "metadata": {},
     "output_type": "execute_result"
    }
   ],
   "source": [
    "kjv2.shape "
   ]
  },
  {
   "cell_type": "code",
   "execution_count": 105,
   "metadata": {},
   "outputs": [
    {
     "data": {
      "text/html": [
       "<div>\n",
       "<style scoped>\n",
       "    .dataframe tbody tr th:only-of-type {\n",
       "        vertical-align: middle;\n",
       "    }\n",
       "\n",
       "    .dataframe tbody tr th {\n",
       "        vertical-align: top;\n",
       "    }\n",
       "\n",
       "    .dataframe thead th {\n",
       "        text-align: right;\n",
       "    }\n",
       "</style>\n",
       "<table border=\"1\" class=\"dataframe\">\n",
       "  <thead>\n",
       "    <tr style=\"text-align: right;\">\n",
       "      <th></th>\n",
       "      <th>b</th>\n",
       "      <th>t</th>\n",
       "    </tr>\n",
       "  </thead>\n",
       "  <tbody>\n",
       "    <tr>\n",
       "      <th>0</th>\n",
       "      <td>1</td>\n",
       "      <td>In the beginning God created the heaven and th...</td>\n",
       "    </tr>\n",
       "    <tr>\n",
       "      <th>1</th>\n",
       "      <td>1</td>\n",
       "      <td>And the earth was without form, and void; and ...</td>\n",
       "    </tr>\n",
       "    <tr>\n",
       "      <th>2</th>\n",
       "      <td>1</td>\n",
       "      <td>And God said, Let there be light: and there wa...</td>\n",
       "    </tr>\n",
       "    <tr>\n",
       "      <th>3</th>\n",
       "      <td>1</td>\n",
       "      <td>And God saw the light, that it was good: and G...</td>\n",
       "    </tr>\n",
       "    <tr>\n",
       "      <th>4</th>\n",
       "      <td>1</td>\n",
       "      <td>And God called the light Day, and the darkness...</td>\n",
       "    </tr>\n",
       "  </tbody>\n",
       "</table>\n",
       "</div>"
      ],
      "text/plain": [
       "   b                                                  t\n",
       "0  1  In the beginning God created the heaven and th...\n",
       "1  1  And the earth was without form, and void; and ...\n",
       "2  1  And God said, Let there be light: and there wa...\n",
       "3  1  And God saw the light, that it was good: and G...\n",
       "4  1  And God called the light Day, and the darkness..."
      ]
     },
     "execution_count": 105,
     "metadata": {},
     "output_type": "execute_result"
    }
   ],
   "source": [
    "kjv2.head()"
   ]
  },
  {
   "cell_type": "code",
   "execution_count": 106,
   "metadata": {},
   "outputs": [],
   "source": [
    "# adding the feature engineered column of book and GENRE pair \n",
    "# using dictionary "
   ]
  },
  {
   "cell_type": "code",
   "execution_count": 107,
   "metadata": {},
   "outputs": [
    {
     "data": {
      "text/html": [
       "<div>\n",
       "<style scoped>\n",
       "    .dataframe tbody tr th:only-of-type {\n",
       "        vertical-align: middle;\n",
       "    }\n",
       "\n",
       "    .dataframe tbody tr th {\n",
       "        vertical-align: top;\n",
       "    }\n",
       "\n",
       "    .dataframe thead th {\n",
       "        text-align: right;\n",
       "    }\n",
       "</style>\n",
       "<table border=\"1\" class=\"dataframe\">\n",
       "  <thead>\n",
       "    <tr style=\"text-align: right;\">\n",
       "      <th></th>\n",
       "      <th>b</th>\n",
       "      <th>t</th>\n",
       "    </tr>\n",
       "  </thead>\n",
       "  <tbody>\n",
       "    <tr>\n",
       "      <th>0</th>\n",
       "      <td>1</td>\n",
       "      <td>In the beginning God created the heaven and th...</td>\n",
       "    </tr>\n",
       "    <tr>\n",
       "      <th>1</th>\n",
       "      <td>1</td>\n",
       "      <td>And the earth was without form, and void; and ...</td>\n",
       "    </tr>\n",
       "    <tr>\n",
       "      <th>2</th>\n",
       "      <td>1</td>\n",
       "      <td>And God said, Let there be light: and there wa...</td>\n",
       "    </tr>\n",
       "    <tr>\n",
       "      <th>3</th>\n",
       "      <td>1</td>\n",
       "      <td>And God saw the light, that it was good: and G...</td>\n",
       "    </tr>\n",
       "    <tr>\n",
       "      <th>4</th>\n",
       "      <td>1</td>\n",
       "      <td>And God called the light Day, and the darkness...</td>\n",
       "    </tr>\n",
       "  </tbody>\n",
       "</table>\n",
       "</div>"
      ],
      "text/plain": [
       "   b                                                  t\n",
       "0  1  In the beginning God created the heaven and th...\n",
       "1  1  And the earth was without form, and void; and ...\n",
       "2  1  And God said, Let there be light: and there wa...\n",
       "3  1  And God saw the light, that it was good: and G...\n",
       "4  1  And God called the light Day, and the darkness..."
      ]
     },
     "execution_count": 107,
     "metadata": {},
     "output_type": "execute_result"
    }
   ],
   "source": [
    "kjv2.head()"
   ]
  },
  {
   "cell_type": "code",
   "execution_count": 108,
   "metadata": {},
   "outputs": [
    {
     "name": "stdout",
     "output_type": "stream",
     "text": [
      "<class 'pandas.core.frame.DataFrame'>\n",
      "RangeIndex: 31103 entries, 0 to 31102\n",
      "Data columns (total 2 columns):\n",
      "b    31103 non-null int64\n",
      "t    31103 non-null object\n",
      "dtypes: int64(1), object(1)\n",
      "memory usage: 486.1+ KB\n"
     ]
    }
   ],
   "source": [
    "kjv2.info()"
   ]
  },
  {
   "cell_type": "code",
   "execution_count": 110,
   "metadata": {
    "scrolled": true
   },
   "outputs": [],
   "source": [
    "kjv2 = kjv2.replace([6,7,8,9,10,11,12,13,14,15,16,17], 2)\n",
    "kjv2 = kjv2.replace([18,19,20,21,22], 3)\n",
    "kjv2 = kjv2.replace([23,24,25,26,27,28,29,30,31,32,33,34,35,36,37,38,39], 4)\n",
    "kjv2 = kjv2.replace([40,41,42,43], 5)\n",
    "kjv2 = kjv2.replace([44], 6)\n",
    "kjv2 = kjv2.replace([45,46,47,48,49,50,51,52,53,54,55,56,57,58,59,60,61,62,63,64,65], 7)\n",
    "kjv2 = kjv2.replace([66], 8)"
   ]
  },
  {
   "cell_type": "code",
   "execution_count": 111,
   "metadata": {
    "scrolled": true
   },
   "outputs": [
    {
     "data": {
      "text/html": [
       "<div>\n",
       "<style scoped>\n",
       "    .dataframe tbody tr th:only-of-type {\n",
       "        vertical-align: middle;\n",
       "    }\n",
       "\n",
       "    .dataframe tbody tr th {\n",
       "        vertical-align: top;\n",
       "    }\n",
       "\n",
       "    .dataframe thead th {\n",
       "        text-align: right;\n",
       "    }\n",
       "</style>\n",
       "<table border=\"1\" class=\"dataframe\">\n",
       "  <thead>\n",
       "    <tr style=\"text-align: right;\">\n",
       "      <th></th>\n",
       "      <th>b</th>\n",
       "      <th>t</th>\n",
       "    </tr>\n",
       "  </thead>\n",
       "  <tbody>\n",
       "    <tr>\n",
       "      <th>0</th>\n",
       "      <td>1</td>\n",
       "      <td>In the beginning God created the heaven and th...</td>\n",
       "    </tr>\n",
       "    <tr>\n",
       "      <th>1</th>\n",
       "      <td>1</td>\n",
       "      <td>And the earth was without form, and void; and ...</td>\n",
       "    </tr>\n",
       "    <tr>\n",
       "      <th>2</th>\n",
       "      <td>1</td>\n",
       "      <td>And God said, Let there be light: and there wa...</td>\n",
       "    </tr>\n",
       "    <tr>\n",
       "      <th>3</th>\n",
       "      <td>1</td>\n",
       "      <td>And God saw the light, that it was good: and G...</td>\n",
       "    </tr>\n",
       "    <tr>\n",
       "      <th>4</th>\n",
       "      <td>1</td>\n",
       "      <td>And God called the light Day, and the darkness...</td>\n",
       "    </tr>\n",
       "  </tbody>\n",
       "</table>\n",
       "</div>"
      ],
      "text/plain": [
       "   b                                                  t\n",
       "0  1  In the beginning God created the heaven and th...\n",
       "1  1  And the earth was without form, and void; and ...\n",
       "2  1  And God said, Let there be light: and there wa...\n",
       "3  1  And God saw the light, that it was good: and G...\n",
       "4  1  And God called the light Day, and the darkness..."
      ]
     },
     "execution_count": 111,
     "metadata": {},
     "output_type": "execute_result"
    }
   ],
   "source": [
    "kjv2.head()"
   ]
  },
  {
   "cell_type": "code",
   "execution_count": 112,
   "metadata": {},
   "outputs": [],
   "source": [
    "kjv2['book'] = kjv['b'] "
   ]
  },
  {
   "cell_type": "code",
   "execution_count": 113,
   "metadata": {},
   "outputs": [
    {
     "data": {
      "text/html": [
       "<div>\n",
       "<style scoped>\n",
       "    .dataframe tbody tr th:only-of-type {\n",
       "        vertical-align: middle;\n",
       "    }\n",
       "\n",
       "    .dataframe tbody tr th {\n",
       "        vertical-align: top;\n",
       "    }\n",
       "\n",
       "    .dataframe thead th {\n",
       "        text-align: right;\n",
       "    }\n",
       "</style>\n",
       "<table border=\"1\" class=\"dataframe\">\n",
       "  <thead>\n",
       "    <tr style=\"text-align: right;\">\n",
       "      <th></th>\n",
       "      <th>id</th>\n",
       "      <th>b</th>\n",
       "      <th>c</th>\n",
       "      <th>v</th>\n",
       "      <th>t</th>\n",
       "    </tr>\n",
       "  </thead>\n",
       "  <tbody>\n",
       "    <tr>\n",
       "      <th>0</th>\n",
       "      <td>1001001</td>\n",
       "      <td>1</td>\n",
       "      <td>1</td>\n",
       "      <td>1</td>\n",
       "      <td>In the beginning God created the heaven and th...</td>\n",
       "    </tr>\n",
       "    <tr>\n",
       "      <th>1</th>\n",
       "      <td>1001002</td>\n",
       "      <td>1</td>\n",
       "      <td>1</td>\n",
       "      <td>2</td>\n",
       "      <td>And the earth was without form, and void; and ...</td>\n",
       "    </tr>\n",
       "    <tr>\n",
       "      <th>2</th>\n",
       "      <td>1001003</td>\n",
       "      <td>1</td>\n",
       "      <td>1</td>\n",
       "      <td>3</td>\n",
       "      <td>And God said, Let there be light: and there wa...</td>\n",
       "    </tr>\n",
       "    <tr>\n",
       "      <th>3</th>\n",
       "      <td>1001004</td>\n",
       "      <td>1</td>\n",
       "      <td>1</td>\n",
       "      <td>4</td>\n",
       "      <td>And God saw the light, that it was good: and G...</td>\n",
       "    </tr>\n",
       "    <tr>\n",
       "      <th>4</th>\n",
       "      <td>1001005</td>\n",
       "      <td>1</td>\n",
       "      <td>1</td>\n",
       "      <td>5</td>\n",
       "      <td>And God called the light Day, and the darkness...</td>\n",
       "    </tr>\n",
       "  </tbody>\n",
       "</table>\n",
       "</div>"
      ],
      "text/plain": [
       "        id  b  c  v                                                  t\n",
       "0  1001001  1  1  1  In the beginning God created the heaven and th...\n",
       "1  1001002  1  1  2  And the earth was without form, and void; and ...\n",
       "2  1001003  1  1  3  And God said, Let there be light: and there wa...\n",
       "3  1001004  1  1  4  And God saw the light, that it was good: and G...\n",
       "4  1001005  1  1  5  And God called the light Day, and the darkness..."
      ]
     },
     "execution_count": 113,
     "metadata": {},
     "output_type": "execute_result"
    }
   ],
   "source": [
    "kjv.head()"
   ]
  },
  {
   "cell_type": "code",
   "execution_count": 114,
   "metadata": {
    "scrolled": true
   },
   "outputs": [
    {
     "data": {
      "text/html": [
       "<div>\n",
       "<style scoped>\n",
       "    .dataframe tbody tr th:only-of-type {\n",
       "        vertical-align: middle;\n",
       "    }\n",
       "\n",
       "    .dataframe tbody tr th {\n",
       "        vertical-align: top;\n",
       "    }\n",
       "\n",
       "    .dataframe thead th {\n",
       "        text-align: right;\n",
       "    }\n",
       "</style>\n",
       "<table border=\"1\" class=\"dataframe\">\n",
       "  <thead>\n",
       "    <tr style=\"text-align: right;\">\n",
       "      <th></th>\n",
       "      <th>b</th>\n",
       "      <th>t</th>\n",
       "      <th>book</th>\n",
       "    </tr>\n",
       "  </thead>\n",
       "  <tbody>\n",
       "    <tr>\n",
       "      <th>31098</th>\n",
       "      <td>8</td>\n",
       "      <td>And the Spirit and the bride say, Come. And le...</td>\n",
       "      <td>66</td>\n",
       "    </tr>\n",
       "    <tr>\n",
       "      <th>31099</th>\n",
       "      <td>8</td>\n",
       "      <td>For I testify unto every man that heareth the ...</td>\n",
       "      <td>66</td>\n",
       "    </tr>\n",
       "    <tr>\n",
       "      <th>31100</th>\n",
       "      <td>8</td>\n",
       "      <td>And if any man shall take away from the words ...</td>\n",
       "      <td>66</td>\n",
       "    </tr>\n",
       "    <tr>\n",
       "      <th>31101</th>\n",
       "      <td>8</td>\n",
       "      <td>He which testifieth these things saith, Surely...</td>\n",
       "      <td>66</td>\n",
       "    </tr>\n",
       "    <tr>\n",
       "      <th>31102</th>\n",
       "      <td>8</td>\n",
       "      <td>The grace of our Lord Jesus Christ be with you...</td>\n",
       "      <td>66</td>\n",
       "    </tr>\n",
       "  </tbody>\n",
       "</table>\n",
       "</div>"
      ],
      "text/plain": [
       "       b                                                  t  book\n",
       "31098  8  And the Spirit and the bride say, Come. And le...    66\n",
       "31099  8  For I testify unto every man that heareth the ...    66\n",
       "31100  8  And if any man shall take away from the words ...    66\n",
       "31101  8  He which testifieth these things saith, Surely...    66\n",
       "31102  8  The grace of our Lord Jesus Christ be with you...    66"
      ]
     },
     "execution_count": 114,
     "metadata": {},
     "output_type": "execute_result"
    }
   ],
   "source": [
    "kjv2.tail()"
   ]
  },
  {
   "cell_type": "code",
   "execution_count": 115,
   "metadata": {},
   "outputs": [],
   "source": [
    "kjv2.rename(columns={'b': 'genre','t': 'text'}, inplace=True)"
   ]
  },
  {
   "cell_type": "code",
   "execution_count": 116,
   "metadata": {},
   "outputs": [],
   "source": [
    "# kjv2.head(10_000) "
   ]
  },
  {
   "cell_type": "code",
   "execution_count": 117,
   "metadata": {},
   "outputs": [],
   "source": [
    "# feature engineer a new column to kjv \n",
    "\n",
    "# kjv['b'] = kjv['b'].map(lambda val: genre_dict)\n"
   ]
  },
  {
   "cell_type": "code",
   "execution_count": 118,
   "metadata": {
    "scrolled": true
   },
   "outputs": [
    {
     "data": {
      "text/html": [
       "<div>\n",
       "<style scoped>\n",
       "    .dataframe tbody tr th:only-of-type {\n",
       "        vertical-align: middle;\n",
       "    }\n",
       "\n",
       "    .dataframe tbody tr th {\n",
       "        vertical-align: top;\n",
       "    }\n",
       "\n",
       "    .dataframe thead th {\n",
       "        text-align: right;\n",
       "    }\n",
       "</style>\n",
       "<table border=\"1\" class=\"dataframe\">\n",
       "  <thead>\n",
       "    <tr style=\"text-align: right;\">\n",
       "      <th></th>\n",
       "      <th>id</th>\n",
       "      <th>b</th>\n",
       "      <th>c</th>\n",
       "      <th>v</th>\n",
       "      <th>t</th>\n",
       "    </tr>\n",
       "  </thead>\n",
       "  <tbody>\n",
       "    <tr>\n",
       "      <th>0</th>\n",
       "      <td>1001001</td>\n",
       "      <td>1</td>\n",
       "      <td>1</td>\n",
       "      <td>1</td>\n",
       "      <td>In the beginning God created the heaven and th...</td>\n",
       "    </tr>\n",
       "    <tr>\n",
       "      <th>1</th>\n",
       "      <td>1001002</td>\n",
       "      <td>1</td>\n",
       "      <td>1</td>\n",
       "      <td>2</td>\n",
       "      <td>And the earth was without form, and void; and ...</td>\n",
       "    </tr>\n",
       "    <tr>\n",
       "      <th>2</th>\n",
       "      <td>1001003</td>\n",
       "      <td>1</td>\n",
       "      <td>1</td>\n",
       "      <td>3</td>\n",
       "      <td>And God said, Let there be light: and there wa...</td>\n",
       "    </tr>\n",
       "    <tr>\n",
       "      <th>3</th>\n",
       "      <td>1001004</td>\n",
       "      <td>1</td>\n",
       "      <td>1</td>\n",
       "      <td>4</td>\n",
       "      <td>And God saw the light, that it was good: and G...</td>\n",
       "    </tr>\n",
       "    <tr>\n",
       "      <th>4</th>\n",
       "      <td>1001005</td>\n",
       "      <td>1</td>\n",
       "      <td>1</td>\n",
       "      <td>5</td>\n",
       "      <td>And God called the light Day, and the darkness...</td>\n",
       "    </tr>\n",
       "  </tbody>\n",
       "</table>\n",
       "</div>"
      ],
      "text/plain": [
       "        id  b  c  v                                                  t\n",
       "0  1001001  1  1  1  In the beginning God created the heaven and th...\n",
       "1  1001002  1  1  2  And the earth was without form, and void; and ...\n",
       "2  1001003  1  1  3  And God said, Let there be light: and there wa...\n",
       "3  1001004  1  1  4  And God saw the light, that it was good: and G...\n",
       "4  1001005  1  1  5  And God called the light Day, and the darkness..."
      ]
     },
     "execution_count": 118,
     "metadata": {},
     "output_type": "execute_result"
    }
   ],
   "source": [
    "kjv.head()"
   ]
  },
  {
   "cell_type": "code",
   "execution_count": 119,
   "metadata": {},
   "outputs": [
    {
     "data": {
      "text/html": [
       "<div>\n",
       "<style scoped>\n",
       "    .dataframe tbody tr th:only-of-type {\n",
       "        vertical-align: middle;\n",
       "    }\n",
       "\n",
       "    .dataframe tbody tr th {\n",
       "        vertical-align: top;\n",
       "    }\n",
       "\n",
       "    .dataframe thead th {\n",
       "        text-align: right;\n",
       "    }\n",
       "</style>\n",
       "<table border=\"1\" class=\"dataframe\">\n",
       "  <thead>\n",
       "    <tr style=\"text-align: right;\">\n",
       "      <th></th>\n",
       "      <th>genre</th>\n",
       "      <th>text</th>\n",
       "      <th>book</th>\n",
       "    </tr>\n",
       "  </thead>\n",
       "  <tbody>\n",
       "    <tr>\n",
       "      <th>31098</th>\n",
       "      <td>8</td>\n",
       "      <td>And the Spirit and the bride say, Come. And le...</td>\n",
       "      <td>66</td>\n",
       "    </tr>\n",
       "    <tr>\n",
       "      <th>31099</th>\n",
       "      <td>8</td>\n",
       "      <td>For I testify unto every man that heareth the ...</td>\n",
       "      <td>66</td>\n",
       "    </tr>\n",
       "    <tr>\n",
       "      <th>31100</th>\n",
       "      <td>8</td>\n",
       "      <td>And if any man shall take away from the words ...</td>\n",
       "      <td>66</td>\n",
       "    </tr>\n",
       "    <tr>\n",
       "      <th>31101</th>\n",
       "      <td>8</td>\n",
       "      <td>He which testifieth these things saith, Surely...</td>\n",
       "      <td>66</td>\n",
       "    </tr>\n",
       "    <tr>\n",
       "      <th>31102</th>\n",
       "      <td>8</td>\n",
       "      <td>The grace of our Lord Jesus Christ be with you...</td>\n",
       "      <td>66</td>\n",
       "    </tr>\n",
       "  </tbody>\n",
       "</table>\n",
       "</div>"
      ],
      "text/plain": [
       "       genre                                               text  book\n",
       "31098      8  And the Spirit and the bride say, Come. And le...    66\n",
       "31099      8  For I testify unto every man that heareth the ...    66\n",
       "31100      8  And if any man shall take away from the words ...    66\n",
       "31101      8  He which testifieth these things saith, Surely...    66\n",
       "31102      8  The grace of our Lord Jesus Christ be with you...    66"
      ]
     },
     "execution_count": 119,
     "metadata": {},
     "output_type": "execute_result"
    }
   ],
   "source": [
    "kjv2.tail()"
   ]
  },
  {
   "cell_type": "code",
   "execution_count": 120,
   "metadata": {},
   "outputs": [],
   "source": [
    "kjv2.drop(columns='book', inplace=True)"
   ]
  },
  {
   "cell_type": "code",
   "execution_count": 121,
   "metadata": {},
   "outputs": [
    {
     "data": {
      "text/plain": [
       "(31103, 2)"
      ]
     },
     "execution_count": 121,
     "metadata": {},
     "output_type": "execute_result"
    }
   ],
   "source": [
    "kjv2.shape"
   ]
  },
  {
   "cell_type": "code",
   "execution_count": 123,
   "metadata": {},
   "outputs": [],
   "source": [
    "# kjv2.to_csv('./my_datasets/kjv_genre_text.csv', index = False)"
   ]
  },
  {
   "cell_type": "code",
   "execution_count": 144,
   "metadata": {},
   "outputs": [],
   "source": [
    "# save book and text columns for each bible version \n",
    "\n",
    "\n",
    "asv2 = asv[['b', 't']]\n",
    "bbe2 = bbe[['b', 't']]\n",
    "wbt2 = wbt[['b', 't']]\n",
    "web2 = web[['b', 't']]\n",
    "ylt2 = ylt[['b', 't']]"
   ]
  },
  {
   "cell_type": "code",
   "execution_count": 150,
   "metadata": {},
   "outputs": [],
   "source": [
    "# replace the book numbers with the genre numbers \n",
    "\n",
    "# asv \n",
    "asv2 = asv2.replace([6,7,8,9,10,11,12,13,14,15,16,17], 2)\n",
    "asv2 = asv2.replace([18,19,20,21,22], 3)\n",
    "asv2 = asv2.replace([23,24,25,26,27,28,29,30,31,32,33,34,35,36,37,38,39], 4)\n",
    "asv2 = asv2.replace([40,41,42,43], 5)\n",
    "asv2 = asv2.replace([44], 6)\n",
    "asv2 = asv2.replace([45,46,47,48,49,50,51,52,53,54,55,56,57,58,59,60,61,62,63,64,65], 7)\n",
    "asv2 = asv2.replace([66], 8)\n",
    "\n",
    "\n",
    "# bbe \n",
    "bbe2 = bbe2.replace([6,7,8,9,10,11,12,13,14,15,16,17], 2)\n",
    "bbe2 = bbe2.replace([18,19,20,21,22], 3)\n",
    "bbe2 = bbe2.replace([23,24,25,26,27,28,29,30,31,32,33,34,35,36,37,38,39], 4)\n",
    "bbe2 = bbe2.replace([40,41,42,43], 5)\n",
    "bbe2 = bbe2.replace([44], 6)\n",
    "bbe2 = bbe2.replace([45,46,47,48,49,50,51,52,53,54,55,56,57,58,59,60,61,62,63,64,65], 7)\n",
    "bbe2 = bbe2.replace([66], 8)\n",
    "\n",
    "# wbt \n",
    "wbt2 = wbt2.replace([6,7,8,9,10,11,12,13,14,15,16,17], 2)\n",
    "wbt2 = wbt2.replace([18,19,20,21,22], 3)\n",
    "wbt2 = wbt2.replace([23,24,25,26,27,28,29,30,31,32,33,34,35,36,37,38,39], 4)\n",
    "wbt2 = wbt2.replace([40,41,42,43], 5)\n",
    "wbt2 = wbt2.replace([44], 6)\n",
    "wbt2 = wbt2.replace([45,46,47,48,49,50,51,52,53,54,55,56,57,58,59,60,61,62,63,64,65], 7)\n",
    "wbt2 = wbt2.replace([66], 8)\n",
    "\n",
    "# web\n",
    "web2 = web2.replace([6,7,8,9,10,11,12,13,14,15,16,17], 2)\n",
    "web2 = web2.replace([18,19,20,21,22], 3)\n",
    "web2 = web2.replace([23,24,25,26,27,28,29,30,31,32,33,34,35,36,37,38,39], 4)\n",
    "web2 = web2.replace([40,41,42,43], 5)\n",
    "web2 = web2.replace([44], 6)\n",
    "web2 = web2.replace([45,46,47,48,49,50,51,52,53,54,55,56,57,58,59,60,61,62,63,64,65], 7)\n",
    "web2 = web2.replace([66], 8)\n",
    "\n",
    "\n",
    "# ylt \n",
    "ylt2 = ylt2.replace([6,7,8,9,10,11,12,13,14,15,16,17], 2)\n",
    "ylt2 = ylt2.replace([18,19,20,21,22], 3)\n",
    "ylt2 = ylt2.replace([23,24,25,26,27,28,29,30,31,32,33,34,35,36,37,38,39], 4)\n",
    "ylt2 = ylt2.replace([40,41,42,43], 5)\n",
    "ylt2 = ylt2.replace([44], 6)\n",
    "ylt2 = ylt2.replace([45,46,47,48,49,50,51,52,53,54,55,56,57,58,59,60,61,62,63,64,65], 7)\n",
    "ylt2 = ylt2.replace([66], 8)\n"
   ]
  },
  {
   "cell_type": "code",
   "execution_count": 151,
   "metadata": {},
   "outputs": [
    {
     "name": "stdout",
     "output_type": "stream",
     "text": [
      "ASV========= \n",
      " =========ASV\n",
      "   b                                                  t\n",
      "0  1  In the beginning God created the heavens and t...\n",
      "1  1  And the earth was waste and void; and darkness...\n",
      "2  1  And God said, Let there be light: and there wa...\n",
      "3  1  And God saw the light, that it was good: and G...\n",
      "4  1  And God called the light Day, and the darkness...\n",
      "BBE========= \n",
      " =========BBE\n",
      "   b                                                  t\n",
      "0  1    At the first God made the heaven and the earth.\n",
      "1  1  And the earth was waste and without form; and ...\n",
      "2  1  And God said, Let there be light: and there wa...\n",
      "3  1  And God, looking on the light, saw that it was...\n",
      "4  1  Naming the light, Day, and the dark, Night. An...\n",
      "WBT========= \n",
      " =========WBT\n",
      "   b                                                  t\n",
      "0  1  In the beginning God created the heaven and th...\n",
      "1  1  And the earth was without form, and void; and ...\n",
      "2  1  And God said, Let there be light: and there wa...\n",
      "3  1  And God saw the light, that it was good: and G...\n",
      "4  1  And God called the light Day, and the darkness...\n",
      "WEB========= \n",
      " =========WEB\n",
      "   b                                                  t\n",
      "0  1  In the beginning God{After \"God,\" the Hebrew h...\n",
      "1  1  Now the earth was formless and empty. Darkness...\n",
      "2  1  God said, \"Let there be light,\" and there was ...\n",
      "3  1  God saw the light, and saw that it was good. G...\n",
      "4  1  God called the light Day, and the darkness he ...\n",
      "YLT========= \n",
      " =========YLT\n",
      "   b                                                  t\n",
      "0  1  In the beginning of God's preparing the heaven...\n",
      "1  1  the earth hath existed waste and void, and dar...\n",
      "2  1       and God saith, `Let light be;' and light is.\n",
      "3  1  And God seeth the light that `it is' good, and...\n",
      "4  1  and God calleth to the light `Day,' and to the...\n"
     ]
    }
   ],
   "source": [
    "# check the head \n",
    "\n",
    "print(\"ASV========= \\n =========ASV\")\n",
    "print(asv2.head())\n",
    "print(\"BBE========= \\n =========BBE\")\n",
    "print(bbe2.head())\n",
    "print(\"WBT========= \\n =========WBT\")\n",
    "print(wbt2.head())\n",
    "print(\"WEB========= \\n =========WEB\")\n",
    "print(web2.head())\n",
    "print(\"YLT========= \\n =========YLT\")\n",
    "print(ylt2.head())"
   ]
  },
  {
   "cell_type": "code",
   "execution_count": 157,
   "metadata": {},
   "outputs": [],
   "source": [
    "# renaming columns to be more explicit \n",
    "\n",
    "asv2.rename(columns={'b': 'genre','t': 'text'}, inplace=True)\n",
    "bbe2.rename(columns={'b': 'genre','t': 'text'}, inplace=True)\n",
    "wbt2.rename(columns={'b': 'genre','t': 'text'}, inplace=True)\n",
    "web2.rename(columns={'b': 'genre','t': 'text'}, inplace=True)\n",
    "ylt2.rename(columns={'b': 'genre','t': 'text'}, inplace=True)"
   ]
  },
  {
   "cell_type": "code",
   "execution_count": 158,
   "metadata": {},
   "outputs": [
    {
     "name": "stdout",
     "output_type": "stream",
     "text": [
      "ASV========= \n",
      " =========ASV\n",
      "   genre                                               text\n",
      "0      1  In the beginning God created the heavens and t...\n",
      "1      1  And the earth was waste and void; and darkness...\n",
      "2      1  And God said, Let there be light: and there wa...\n",
      "3      1  And God saw the light, that it was good: and G...\n",
      "4      1  And God called the light Day, and the darkness...\n",
      "BBE========= \n",
      " =========BBE\n",
      "   genre                                               text\n",
      "0      1    At the first God made the heaven and the earth.\n",
      "1      1  And the earth was waste and without form; and ...\n",
      "2      1  And God said, Let there be light: and there wa...\n",
      "3      1  And God, looking on the light, saw that it was...\n",
      "4      1  Naming the light, Day, and the dark, Night. An...\n",
      "WBT========= \n",
      " =========WBT\n",
      "   genre                                               text\n",
      "0      1  In the beginning God created the heaven and th...\n",
      "1      1  And the earth was without form, and void; and ...\n",
      "2      1  And God said, Let there be light: and there wa...\n",
      "3      1  And God saw the light, that it was good: and G...\n",
      "4      1  And God called the light Day, and the darkness...\n",
      "WEB========= \n",
      " =========WEB\n",
      "   genre                                               text\n",
      "0      1  In the beginning God{After \"God,\" the Hebrew h...\n",
      "1      1  Now the earth was formless and empty. Darkness...\n",
      "2      1  God said, \"Let there be light,\" and there was ...\n",
      "3      1  God saw the light, and saw that it was good. G...\n",
      "4      1  God called the light Day, and the darkness he ...\n",
      "YLT========= \n",
      " =========YLT\n",
      "   genre                                               text\n",
      "0      1  In the beginning of God's preparing the heaven...\n",
      "1      1  the earth hath existed waste and void, and dar...\n",
      "2      1       and God saith, `Let light be;' and light is.\n",
      "3      1  And God seeth the light that `it is' good, and...\n",
      "4      1  and God calleth to the light `Day,' and to the...\n"
     ]
    }
   ],
   "source": [
    "# check the head \n",
    "\n",
    "print(\"ASV========= \\n =========ASV\")\n",
    "print(asv2.head())\n",
    "print(\"BBE========= \\n =========BBE\")\n",
    "print(bbe2.head())\n",
    "print(\"WBT========= \\n =========WBT\")\n",
    "print(wbt2.head())\n",
    "print(\"WEB========= \\n =========WEB\")\n",
    "print(web2.head())\n",
    "print(\"YLT========= \\n =========YLT\")\n",
    "print(ylt2.head())"
   ]
  },
  {
   "cell_type": "code",
   "execution_count": 159,
   "metadata": {},
   "outputs": [],
   "source": [
    "# Export changed dataframe to csv \n",
    "\n",
    "asv2.to_csv('./my_datasets/asv_genre_text.csv', index = False)\n",
    "bbe2.to_csv('./my_datasets/bbe_genre_text.csv', index = False)\n",
    "wbt2.to_csv('./my_datasets/wbt_genre_text.csv', index = False)\n",
    "web2.to_csv('./my_datasets/web_genre_text.csv', index = False)\n",
    "ylt2.to_csv('./my_datasets/ylt_genre_text.csv', index = False)"
   ]
  },
  {
   "cell_type": "code",
   "execution_count": null,
   "metadata": {},
   "outputs": [],
   "source": []
  },
  {
   "cell_type": "code",
   "execution_count": 35,
   "metadata": {},
   "outputs": [],
   "source": [
    "# Doc-2-vec on each row (verse)= each row is a vector DOESN'T HAVE A METRIC \n",
    "\n",
    "# what is the probability that each row is connected to each genre \n",
    "\n",
    "# genre as a target variable \n",
    "\n",
    "# stop words and lemmatize \n",
    "\n",
    "# TARGET = lables \n",
    "\n",
    "# cosign similarity "
   ]
  },
  {
   "cell_type": "code",
   "execution_count": 36,
   "metadata": {},
   "outputs": [],
   "source": [
    "# split in train () and test "
   ]
  },
  {
   "cell_type": "code",
   "execution_count": 37,
   "metadata": {},
   "outputs": [],
   "source": [
    "# train the model on the dataset \n",
    "\n",
    "# knn, classifier\n",
    "# logistic reg  classifier \n",
    "# random forest classifier \n",
    "# adaboost classifier \n",
    "# naive beys classifier \n",
    "\n",
    "# hyper parameter tuening \n",
    "\n",
    "# Misclassification rate, f1 score, misclassification "
   ]
  },
  {
   "cell_type": "code",
   "execution_count": 38,
   "metadata": {},
   "outputs": [],
   "source": [
    "# then do the same preprocessing thing on the new data, after manually labeling by genre \n",
    "# All i need is text and genre \n",
    "# features = text \n",
    "# target = predicting genre "
   ]
  },
  {
   "cell_type": "code",
   "execution_count": 39,
   "metadata": {},
   "outputs": [],
   "source": [
    "# testing under supervised \n",
    "# subreddit on genres "
   ]
  },
  {
   "cell_type": "code",
   "execution_count": 40,
   "metadata": {},
   "outputs": [],
   "source": [
    "# making the columns the genre "
   ]
  },
  {
   "cell_type": "code",
   "execution_count": 41,
   "metadata": {},
   "outputs": [],
   "source": [
    "# then use the classifier performance for the recommender "
   ]
  },
  {
   "cell_type": "code",
   "execution_count": 42,
   "metadata": {},
   "outputs": [],
   "source": [
    "# presentation, the book chapter ID /verse and seeing the top 5 outputs "
   ]
  },
  {
   "cell_type": "code",
   "execution_count": 43,
   "metadata": {},
   "outputs": [],
   "source": [
    "# f1 score, sensitivity, sensitivity, misclassification, accuracy "
   ]
  }
 ],
 "metadata": {
  "kernelspec": {
   "display_name": "Python 3",
   "language": "python",
   "name": "python3"
  },
  "language_info": {
   "codemirror_mode": {
    "name": "ipython",
    "version": 3
   },
   "file_extension": ".py",
   "mimetype": "text/x-python",
   "name": "python",
   "nbconvert_exporter": "python",
   "pygments_lexer": "ipython3",
   "version": "3.7.2"
  }
 },
 "nbformat": 4,
 "nbformat_minor": 2
}
